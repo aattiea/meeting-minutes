{
 "cells": [
  {
   "cell_type": "markdown",
   "id": "1e15e9ed",
   "metadata": {},
   "source": [
    "### Option 1: Deploy using Ngrok on VertexAI notebook"
   ]
  },
  {
   "cell_type": "code",
   "execution_count": null,
   "id": "57999b4f-ca2c-424d-945d-b4564ee80069",
   "metadata": {
    "tags": []
   },
   "outputs": [],
   "source": [
    "!pip install pyngrok"
   ]
  },
  {
   "cell_type": "code",
   "execution_count": null,
   "id": "42bfb17e-747c-4d17-8efb-78a77e988a2a",
   "metadata": {
    "tags": []
   },
   "outputs": [],
   "source": [
    "from pyngrok import ngrok "
   ]
  },
  {
   "cell_type": "code",
   "execution_count": null,
   "id": "f4db1588-b243-4412-a6a9-ea8c15490d45",
   "metadata": {
    "tags": []
   },
   "outputs": [],
   "source": [
    "#take the token for deployment\n",
    "NGROK_AUTH_TOKEN=\"<your ngrok key>\" #place your ngrok api key here\n",
    "ngrok.set_auth_token(NGROK_AUTH_TOKEN)"
   ]
  },
  {
   "cell_type": "code",
   "execution_count": null,
   "id": "892e40f7-f374-4964-b467-6361f2bd6836",
   "metadata": {
    "tags": []
   },
   "outputs": [],
   "source": [
    "ngrok.connect(8501)"
   ]
  },
  {
   "cell_type": "code",
   "execution_count": null,
   "id": "73877a77-5974-49b8-b482-826d134a1d28",
   "metadata": {
    "tags": []
   },
   "outputs": [],
   "source": [
    "!streamlit run app.py"
   ]
  },
  {
   "cell_type": "markdown",
   "id": "024c51b9",
   "metadata": {},
   "source": [
    "### Option 2: Deploy using google cloud run"
   ]
  },
  {
   "cell_type": "code",
   "execution_count": null,
   "id": "cb87d9a5-15f2-417b-a0e2-ff4140605a47",
   "metadata": {
    "tags": []
   },
   "outputs": [],
   "source": [
    "%%writefile Dockerfile\n",
    "FROM python:3.11.6\n",
    "\n",
    "WORKDIR /app\n",
    "\n",
    "# Install ffmpeg (includes ffprobe)\n",
    "RUN apt-get update && \\\n",
    "    apt-get install -y ffmpeg && \\\n",
    "    apt-get clean && \\\n",
    "    rm -rf /var/lib/apt/lists/*\n",
    "\n",
    "COPY requirements.txt ./requirements.txt\n",
    "\n",
    "RUN pip install -r requirements.txt\n",
    "\n",
    "EXPOSE 8080\n",
    "\n",
    "COPY . /app\n",
    "\n",
    "CMD streamlit run --server.port 8080 --server.enableCORS false app.py\n"
   ]
  },
  {
   "cell_type": "markdown",
   "id": "b52fc7bc",
   "metadata": {},
   "source": [
    "### IMPORTANT: "
   ]
  },
  {
   "cell_type": "markdown",
   "id": "3dfc39ed",
   "metadata": {},
   "source": [
    "### 1. make sure to update the project id and the region in both commands before running "
   ]
  },
  {
   "cell_type": "markdown",
   "id": "14d20c16",
   "metadata": {},
   "source": [
    "### 2. run the second command using cloud shell"
   ]
  },
  {
   "cell_type": "code",
   "execution_count": null,
   "id": "20234f16-ff9f-4cd4-bac3-955ae0b99502",
   "metadata": {
    "tags": []
   },
   "outputs": [],
   "source": [
    "!gcloud builds submit --tag gcr.io/<project_id>/meeting-minutes"
   ]
  },
  {
   "cell_type": "code",
   "execution_count": null,
   "id": "e2835fbb-a751-4542-96b5-36da788c7d6e",
   "metadata": {},
   "outputs": [],
   "source": [
    "!gcloud run deploy meeting-minutes --image gcr.io/<project_id>/meeting-minutes --min-instances 1 --max-instances 1 --cpu 1 --allow-unauthenticated --memory 512Mi --region <region>"
   ]
  }
 ],
 "metadata": {
  "environment": {
   "kernel": "python3",
   "name": "tf2-gpu.2-12.m113",
   "type": "gcloud",
   "uri": "gcr.io/deeplearning-platform-release/tf2-gpu.2-12:m113"
  },
  "kernelspec": {
   "display_name": "Python 3 (ipykernel)",
   "language": "python",
   "name": "python3"
  },
  "language_info": {
   "codemirror_mode": {
    "name": "ipython",
    "version": 3
   },
   "file_extension": ".py",
   "mimetype": "text/x-python",
   "name": "python",
   "nbconvert_exporter": "python",
   "pygments_lexer": "ipython3",
   "version": "3.11.4"
  }
 },
 "nbformat": 4,
 "nbformat_minor": 5
}
